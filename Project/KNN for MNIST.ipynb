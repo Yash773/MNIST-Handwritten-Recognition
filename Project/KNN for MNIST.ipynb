{
 "cells": [
  {
   "cell_type": "code",
   "execution_count": 1,
   "metadata": {},
   "outputs": [],
   "source": [
    "import numpy as np\n",
    "import matplotlib.pyplot as plt\n",
    "import pandas as pd"
   ]
  },
  {
   "cell_type": "code",
   "execution_count": 5,
   "metadata": {},
   "outputs": [
    {
     "name": "stdout",
     "output_type": "stream",
     "text": [
      "(42000, 785)\n",
      "(42000, 785)\n"
     ]
    }
   ],
   "source": [
    "df = pd.read_csv('/home/yash/Desktop/Python/Data_Sets/MNIST/train.csv')\n",
    "data = df.values\n",
    "print (df.shape)\n",
    "print (data.shape)\n"
   ]
  },
  {
   "cell_type": "code",
   "execution_count": 6,
   "metadata": {},
   "outputs": [
    {
     "name": "stdout",
     "output_type": "stream",
     "text": [
      "(42000, 784)\n",
      "(42000,)\n"
     ]
    }
   ],
   "source": [
    "x = data[:,1:]\n",
    "y = data[:,0]\n",
    "\n",
    "print (x.shape)\n",
    "print (y.shape)"
   ]
  },
  {
   "cell_type": "code",
   "execution_count": 7,
   "metadata": {},
   "outputs": [
    {
     "name": "stdout",
     "output_type": "stream",
     "text": [
      "3\n"
     ]
    },
    {
     "data": {
      "image/png": "[encoded data removed]",
      "text/plain": [
       "<Figure size 432x288 with 1 Axes>"
      ]
     },
     "metadata": {},
     "output_type": "display_data"
    }
   ],
   "source": [
    "def drawimg(i):\n",
    "    img = x[i].reshape((28,28))\n",
    "    print (y[i])\n",
    "    plt.imshow(img, cmap='gray')\n",
    "    \n",
    "drawimg(7)"
   ]
  },
  {
   "cell_type": "code",
   "execution_count": 8,
   "metadata": {},
   "outputs": [
    {
     "name": "stdout",
     "output_type": "stream",
     "text": [
      "33600\n"
     ]
    }
   ],
   "source": [
    "split = int(0.8 * x.shape[0])\n",
    "print (split)"
   ]
  },
  {
   "cell_type": "code",
   "execution_count": 9,
   "metadata": {},
   "outputs": [],
   "source": [
    "x_train = x[:split,:]\n",
    "y_train = y[:split]\n",
    "x_test = x[split:,:]\n",
    "y_test = y[split:]"
   ]
  },
  {
   "cell_type": "code",
   "execution_count": 10,
   "metadata": {},
   "outputs": [
    {
     "name": "stdout",
     "output_type": "stream",
     "text": [
      "(42000, 784) (33600, 784) (8400, 784)\n",
      "(42000,) (33600,) (8400,)\n"
     ]
    }
   ],
   "source": [
    "print (x.shape,x_train.shape,x_test.shape)\n",
    "print (y.shape,y_train.shape,y_test.shape)"
   ]
  },
  {
   "cell_type": "code",
   "execution_count": 11,
   "metadata": {},
   "outputs": [],
   "source": [
    "def dist(x1,x2):\n",
    "    return np.sqrt(((x2-x1)**2).sum())\n",
    "\n",
    "def knn(x_train,y_train,query_x,k=5):\n",
    "    # First Step\n",
    "    dist_vals = []\n",
    "    \n",
    "    m = x_train.shape[0]\n",
    "    for ix in range(m):\n",
    "        d = dist(query_x,x_train[ix])\n",
    "        dist_vals.append((d,y_train[ix]))\n",
    "\n",
    "    dist_vals = sorted(dist_vals)\n",
    "    dist_vals = dist_vals[:k]\n",
    "    \n",
    "    \n",
    "    y = np.array(dist_vals)\n",
    "    #print (y)\n",
    "    t = np.unique(y[:,1],return_counts=True)\n",
    "    index  = t[1].argmax()\n",
    "    prediction = t[0][index]\n",
    "    return prediction\n",
    "    \n",
    "def drawquery(x):\n",
    "    img = x.reshape((28,28))\n",
    "    plt.imshow(img, cmap='gray')"
   ]
  },
  {
   "cell_type": "code",
   "execution_count": 12,
   "metadata": {},
   "outputs": [
    {
     "name": "stdout",
     "output_type": "stream",
     "text": [
      "9\n",
      "9\n"
     ]
    },
    {
     "data": {
      "image/png": "[encoded data removed]",
      "text/plain": [
       "<Figure size 432x288 with 1 Axes>"
      ]
     },
     "metadata": {},
     "output_type": "display_data"
    }
   ],
   "source": [
    "query_x = x_test[111]\n",
    "pred = int(knn(x_train,y_train,query_x))\n",
    "\n",
    "print (pred)\n",
    "print (y_test[111])\n",
    "drawquery(query_x)"
   ]
  },
  {
   "cell_type": "code",
   "execution_count": 13,
   "metadata": {},
   "outputs": [
    {
     "name": "stdout",
     "output_type": "stream",
     "text": [
      "19 1\n"
     ]
    }
   ],
   "source": [
    "match = 0\n",
    "fail = 0\n",
    "failmat = []\n",
    "for i in range(5):\n",
    "    pred = int(knn(x_train,y_train,x_test[i]))\n",
    "    if(pred==y_test[i]):\n",
    "        match += 1\n",
    "    else:\n",
    "        fail += 1\n",
    "        failmat.append(i)\n",
    "print (match , fail)"
   ]
  },
  {
   "cell_type": "code",
   "execution_count": 14,
   "metadata": {},
   "outputs": [
    {
     "name": "stdout",
     "output_type": "stream",
     "text": [
      "[27]\n"
     ]
    }
   ],
   "source": [
    "print (failmat)"
   ]
  },
  {
   "cell_type": "code",
   "execution_count": 15,
   "metadata": {},
   "outputs": [
    {
     "name": "stdout",
     "output_type": "stream",
     "text": [
      "7.0\n"
     ]
    },
    {
     "data": {
      "image/png": "[encoded data removed]",
      "text/plain": [
       "<Figure size 432x288 with 1 Axes>"
      ]
     },
     "metadata": {},
     "output_type": "display_data"
    }
   ],
   "source": [
    "print (knn(x_train,y_train,x_test[27]))\n",
    "drawquery(x_test[27])"
   ]
  },
  {
   "cell_type": "code",
   "execution_count": null,
   "metadata": {},
   "outputs": [],
   "source": []
  }
 ],
 "metadata": {
  "kernelspec": {
   "display_name": "Python 3",
   "language": "python",
   "name": "python3"
  },
  "language_info": {
   "codemirror_mode": {
    "name": "ipython",
    "version": 3
   },
   "file_extension": ".py",
   "mimetype": "text/x-python",
   "name": "python",
   "nbconvert_exporter": "python",
   "pygments_lexer": "ipython3",
   "version": "3.6.5"
  }
 },
 "nbformat": 4,
 "nbformat_minor": 2
}

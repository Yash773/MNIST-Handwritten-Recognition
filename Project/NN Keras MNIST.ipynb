{
 "cells": [
  {
   "cell_type": "code",
   "execution_count": 3,
   "metadata": {},
   "outputs": [],
   "source": [
    "import tensorflow\n",
    "import pandas as pd\n",
    "import numpy as np\n",
    "from matplotlib import pyplot as plt\n",
    "from keras.layers import Dense,Activation\n",
    "from keras.models import Sequential\n",
    "from keras.utils import np_utils"
   ]
  },
  {
   "cell_type": "code",
   "execution_count": 4,
   "metadata": {},
   "outputs": [
    {
     "name": "stdout",
     "output_type": "stream",
     "text": [
      "(42000, 784) (42000,)\n"
     ]
    }
   ],
   "source": [
    "x = pd.read_csv(\"/home/yash/Desktop/Python/Data_Sets/MNIST/train.csv\")\n",
    "X_ = np.array(x)\n",
    "X = X_[:,1:]\n",
    "X = X/255.0\n",
    "y = X_[:,0]\n",
    "print (X.shape,y.shape)"
   ]
  },
  {
   "cell_type": "code",
   "execution_count": 5,
   "metadata": {},
   "outputs": [
    {
     "data": {
      "text/plain": [
       "(42000, 10)"
      ]
     },
     "execution_count": 5,
     "metadata": {},
     "output_type": "execute_result"
    }
   ],
   "source": [
    "# to convert labels to one hot\n",
    "y = np_utils.to_categorical(y)\n",
    "y.shape"
   ]
  },
  {
   "cell_type": "code",
   "execution_count": 6,
   "metadata": {},
   "outputs": [
    {
     "data": {
      "text/plain": [
       "array([[0., 1., 0., 0., 0., 0., 0., 0., 0., 0.],\n",
       "       [1., 0., 0., 0., 0., 0., 0., 0., 0., 0.],\n",
       "       [0., 1., 0., 0., 0., 0., 0., 0., 0., 0.],\n",
       "       [0., 0., 0., 0., 1., 0., 0., 0., 0., 0.],\n",
       "       [1., 0., 0., 0., 0., 0., 0., 0., 0., 0.],\n",
       "       [1., 0., 0., 0., 0., 0., 0., 0., 0., 0.],\n",
       "       [0., 0., 0., 0., 0., 0., 0., 1., 0., 0.],\n",
       "       [0., 0., 0., 1., 0., 0., 0., 0., 0., 0.],\n",
       "       [0., 0., 0., 0., 0., 1., 0., 0., 0., 0.],\n",
       "       [0., 0., 0., 1., 0., 0., 0., 0., 0., 0.]], dtype=float32)"
      ]
     },
     "execution_count": 6,
     "metadata": {},
     "output_type": "execute_result"
    }
   ],
   "source": [
    "y[:10]"
   ]
  },
  {
   "cell_type": "code",
   "execution_count": 7,
   "metadata": {},
   "outputs": [
    {
     "name": "stdout",
     "output_type": "stream",
     "text": [
      "(8000, 784) (8000, 10) (34000, 784) (34000, 10)\n"
     ]
    }
   ],
   "source": [
    "X_train = X[:8000,:]\n",
    "Y_train = y[:8000,:]\n",
    "X_val = X[8000:,:]\n",
    "Y_val = y[8000:,:]\n",
    "\n",
    "print (X_train.shape,Y_train.shape,X_val.shape,Y_val.shape)"
   ]
  },
  {
   "cell_type": "code",
   "execution_count": 8,
   "metadata": {},
   "outputs": [
    {
     "name": "stdout",
     "output_type": "stream",
     "text": [
      "_________________________________________________________________\n",
      "Layer (type)                 Output Shape              Param #   \n",
      "=================================================================\n",
      "dense_1 (Dense)              (None, 256)               200960    \n",
      "_________________________________________________________________\n",
      "activation_1 (Activation)    (None, 256)               0         \n",
      "_________________________________________________________________\n",
      "dense_2 (Dense)              (None, 64)                16448     \n",
      "_________________________________________________________________\n",
      "activation_2 (Activation)    (None, 64)                0         \n",
      "_________________________________________________________________\n",
      "dense_3 (Dense)              (None, 10)                650       \n",
      "_________________________________________________________________\n",
      "activation_3 (Activation)    (None, 10)                0         \n",
      "=================================================================\n",
      "Total params: 218,058\n",
      "Trainable params: 218,058\n",
      "Non-trainable params: 0\n",
      "_________________________________________________________________\n"
     ]
    }
   ],
   "source": [
    "model = Sequential()\n",
    "model.add(Dense(256, input_shape=(784,)))\n",
    "model.add(Activation('relu'))\n",
    "\n",
    "model.add(Dense(64))\n",
    "model.add(Activation('relu'))\n",
    "\n",
    "model.add(Dense(10))\n",
    "model.add(Activation('softmax'))\n",
    "\n",
    "model.summary()"
   ]
  },
  {
   "cell_type": "code",
   "execution_count": 9,
   "metadata": {},
   "outputs": [],
   "source": [
    "model.compile(optimizer='sgd',loss='categorical_crossentropy',metrics=['accuracy'])"
   ]
  },
  {
   "cell_type": "code",
   "execution_count": 10,
   "metadata": {},
   "outputs": [
    {
     "name": "stdout",
     "output_type": "stream",
     "text": [
      "Train on 8000 samples, validate on 34000 samples\n",
      "Epoch 1/75\n",
      " - 2s - loss: 2.2719 - acc: 0.1557 - val_loss: 2.1542 - val_acc: 0.3128\n",
      "Epoch 2/75\n",
      " - 1s - loss: 2.0598 - acc: 0.4341 - val_loss: 1.9648 - val_acc: 0.5256\n",
      "Epoch 3/75\n",
      " - 1s - loss: 1.8639 - acc: 0.5921 - val_loss: 1.7692 - val_acc: 0.6288\n",
      "Epoch 4/75\n",
      " - 1s - loss: 1.6619 - acc: 0.6749 - val_loss: 1.5707 - val_acc: 0.6855\n",
      "Epoch 5/75\n",
      " - 1s - loss: 1.4644 - acc: 0.7134 - val_loss: 1.3831 - val_acc: 0.7181\n",
      "Epoch 6/75\n",
      " - 1s - loss: 1.2828 - acc: 0.7424 - val_loss: 1.2156 - val_acc: 0.7450\n",
      "Epoch 7/75\n",
      " - 1s - loss: 1.1261 - acc: 0.7701 - val_loss: 1.0755 - val_acc: 0.7651\n",
      "Epoch 8/75\n",
      " - 1s - loss: 0.9976 - acc: 0.7911 - val_loss: 0.9625 - val_acc: 0.7919\n",
      "Epoch 9/75\n",
      " - 1s - loss: 0.8953 - acc: 0.8114 - val_loss: 0.8713 - val_acc: 0.8056\n",
      "Epoch 10/75\n",
      " - 1s - loss: 0.8134 - acc: 0.8215 - val_loss: 0.7999 - val_acc: 0.8143\n",
      "Epoch 11/75\n",
      " - 1s - loss: 0.7489 - acc: 0.8327 - val_loss: 0.7422 - val_acc: 0.8229\n",
      "Epoch 12/75\n",
      " - 1s - loss: 0.6961 - acc: 0.8410 - val_loss: 0.6952 - val_acc: 0.8334\n",
      "Epoch 13/75\n",
      " - 1s - loss: 0.6527 - acc: 0.8492 - val_loss: 0.6560 - val_acc: 0.8379\n",
      "Epoch 14/75\n",
      " - 1s - loss: 0.6168 - acc: 0.8546 - val_loss: 0.6237 - val_acc: 0.8462\n",
      "Epoch 15/75\n",
      " - 1s - loss: 0.5861 - acc: 0.8605 - val_loss: 0.5945 - val_acc: 0.8518\n",
      "Epoch 16/75\n",
      " - 1s - loss: 0.5599 - acc: 0.8653 - val_loss: 0.5698 - val_acc: 0.8555\n",
      "Epoch 17/75\n",
      " - 1s - loss: 0.5368 - acc: 0.8689 - val_loss: 0.5496 - val_acc: 0.8604\n",
      "Epoch 18/75\n",
      " - 1s - loss: 0.5168 - acc: 0.8728 - val_loss: 0.5305 - val_acc: 0.8626\n",
      "Epoch 19/75\n",
      " - 1s - loss: 0.4995 - acc: 0.8734 - val_loss: 0.5137 - val_acc: 0.8679\n",
      "Epoch 20/75\n",
      " - 1s - loss: 0.4837 - acc: 0.8790 - val_loss: 0.4991 - val_acc: 0.8704\n",
      "Epoch 21/75\n",
      " - 1s - loss: 0.4697 - acc: 0.8831 - val_loss: 0.4859 - val_acc: 0.8714\n",
      "Epoch 22/75\n",
      " - 1s - loss: 0.4571 - acc: 0.8840 - val_loss: 0.4745 - val_acc: 0.8752\n",
      "Epoch 23/75\n",
      " - 1s - loss: 0.4457 - acc: 0.8856 - val_loss: 0.4643 - val_acc: 0.8774\n",
      "Epoch 24/75\n",
      " - 1s - loss: 0.4353 - acc: 0.8880 - val_loss: 0.4541 - val_acc: 0.8785\n",
      "Epoch 25/75\n",
      " - 1s - loss: 0.4253 - acc: 0.8895 - val_loss: 0.4462 - val_acc: 0.8799\n",
      "Epoch 26/75\n",
      " - 1s - loss: 0.4166 - acc: 0.8929 - val_loss: 0.4369 - val_acc: 0.8818\n",
      "Epoch 27/75\n",
      " - 1s - loss: 0.4085 - acc: 0.8924 - val_loss: 0.4289 - val_acc: 0.8839\n",
      "Epoch 28/75\n",
      " - 1s - loss: 0.4004 - acc: 0.8944 - val_loss: 0.4224 - val_acc: 0.8836\n",
      "Epoch 29/75\n",
      " - 1s - loss: 0.3941 - acc: 0.8949 - val_loss: 0.4153 - val_acc: 0.8861\n",
      "Epoch 30/75\n",
      " - 1s - loss: 0.3868 - acc: 0.8976 - val_loss: 0.4092 - val_acc: 0.8871\n",
      "Epoch 31/75\n",
      " - 1s - loss: 0.3807 - acc: 0.8974 - val_loss: 0.4039 - val_acc: 0.8887\n",
      "Epoch 32/75\n",
      " - 1s - loss: 0.3750 - acc: 0.8991 - val_loss: 0.3999 - val_acc: 0.8900\n",
      "Epoch 33/75\n",
      " - 1s - loss: 0.3693 - acc: 0.9012 - val_loss: 0.3935 - val_acc: 0.8908\n",
      "Epoch 34/75\n",
      " - 1s - loss: 0.3639 - acc: 0.9015 - val_loss: 0.3888 - val_acc: 0.8917\n",
      "Epoch 35/75\n",
      " - 1s - loss: 0.3590 - acc: 0.9027 - val_loss: 0.3841 - val_acc: 0.8929\n",
      "Epoch 36/75\n",
      " - 1s - loss: 0.3539 - acc: 0.9044 - val_loss: 0.3808 - val_acc: 0.8942\n",
      "Epoch 37/75\n",
      " - 1s - loss: 0.3499 - acc: 0.9062 - val_loss: 0.3761 - val_acc: 0.8953\n",
      "Epoch 38/75\n",
      " - 1s - loss: 0.3455 - acc: 0.9068 - val_loss: 0.3739 - val_acc: 0.8951\n",
      "Epoch 39/75\n",
      " - 1s - loss: 0.3415 - acc: 0.9069 - val_loss: 0.3701 - val_acc: 0.8958\n",
      "Epoch 40/75\n",
      " - 1s - loss: 0.3375 - acc: 0.9085 - val_loss: 0.3661 - val_acc: 0.8968\n",
      "Epoch 41/75\n",
      " - 1s - loss: 0.3335 - acc: 0.9087 - val_loss: 0.3626 - val_acc: 0.8976\n",
      "Epoch 42/75\n",
      " - 1s - loss: 0.3296 - acc: 0.9096 - val_loss: 0.3598 - val_acc: 0.8978\n",
      "Epoch 43/75\n",
      " - 1s - loss: 0.3264 - acc: 0.9099 - val_loss: 0.3573 - val_acc: 0.8983\n",
      "Epoch 44/75\n",
      " - 1s - loss: 0.3230 - acc: 0.9124 - val_loss: 0.3539 - val_acc: 0.8995\n",
      "Epoch 45/75\n",
      " - 1s - loss: 0.3196 - acc: 0.9128 - val_loss: 0.3512 - val_acc: 0.9000\n",
      "Epoch 46/75\n",
      " - 1s - loss: 0.3165 - acc: 0.9124 - val_loss: 0.3481 - val_acc: 0.9007\n",
      "Epoch 47/75\n",
      " - 1s - loss: 0.3134 - acc: 0.9121 - val_loss: 0.3459 - val_acc: 0.9015\n",
      "Epoch 48/75\n",
      " - 1s - loss: 0.3106 - acc: 0.9133 - val_loss: 0.3432 - val_acc: 0.9019\n",
      "Epoch 49/75\n",
      " - 1s - loss: 0.3075 - acc: 0.9146 - val_loss: 0.3411 - val_acc: 0.9020\n",
      "Epoch 50/75\n",
      " - 1s - loss: 0.3050 - acc: 0.9154 - val_loss: 0.3390 - val_acc: 0.9027\n",
      "Epoch 51/75\n",
      " - 1s - loss: 0.3019 - acc: 0.9163 - val_loss: 0.3371 - val_acc: 0.9029\n",
      "Epoch 52/75\n",
      " - 1s - loss: 0.2994 - acc: 0.9165 - val_loss: 0.3362 - val_acc: 0.9038\n",
      "Epoch 53/75\n",
      " - 1s - loss: 0.2968 - acc: 0.9166 - val_loss: 0.3335 - val_acc: 0.9033\n",
      "Epoch 54/75\n",
      " - 1s - loss: 0.2942 - acc: 0.9179 - val_loss: 0.3304 - val_acc: 0.9044\n",
      "Epoch 55/75\n",
      " - 1s - loss: 0.2916 - acc: 0.9185 - val_loss: 0.3292 - val_acc: 0.9053\n",
      "Epoch 56/75\n",
      " - 1s - loss: 0.2891 - acc: 0.9189 - val_loss: 0.3271 - val_acc: 0.9057\n",
      "Epoch 57/75\n",
      " - 1s - loss: 0.2868 - acc: 0.9200 - val_loss: 0.3251 - val_acc: 0.9057\n",
      "Epoch 58/75\n",
      " - 1s - loss: 0.2846 - acc: 0.9205 - val_loss: 0.3245 - val_acc: 0.9047\n",
      "Epoch 59/75\n",
      " - 1s - loss: 0.2825 - acc: 0.9197 - val_loss: 0.3217 - val_acc: 0.9072\n",
      "Epoch 60/75\n",
      " - 1s - loss: 0.2804 - acc: 0.9215 - val_loss: 0.3201 - val_acc: 0.9077\n",
      "Epoch 61/75\n",
      " - 1s - loss: 0.2779 - acc: 0.9235 - val_loss: 0.3185 - val_acc: 0.9079\n",
      "Epoch 62/75\n",
      " - 1s - loss: 0.2758 - acc: 0.9229 - val_loss: 0.3168 - val_acc: 0.9076\n",
      "Epoch 63/75\n",
      " - 1s - loss: 0.2739 - acc: 0.9239 - val_loss: 0.3152 - val_acc: 0.9089\n",
      "Epoch 64/75\n",
      " - 1s - loss: 0.2716 - acc: 0.9245 - val_loss: 0.3135 - val_acc: 0.9096\n",
      "Epoch 65/75\n",
      " - 1s - loss: 0.2695 - acc: 0.9244 - val_loss: 0.3128 - val_acc: 0.9085\n",
      "Epoch 66/75\n",
      " - 1s - loss: 0.2676 - acc: 0.9259 - val_loss: 0.3109 - val_acc: 0.9098\n",
      "Epoch 67/75\n",
      " - 1s - loss: 0.2657 - acc: 0.9257 - val_loss: 0.3089 - val_acc: 0.9106\n",
      "Epoch 68/75\n",
      " - 1s - loss: 0.2637 - acc: 0.9266 - val_loss: 0.3093 - val_acc: 0.9101\n",
      "Epoch 69/75\n",
      " - 1s - loss: 0.2619 - acc: 0.9261 - val_loss: 0.3071 - val_acc: 0.9104\n",
      "Epoch 70/75\n",
      " - 1s - loss: 0.2602 - acc: 0.9275 - val_loss: 0.3059 - val_acc: 0.9110\n",
      "Epoch 71/75\n",
      " - 1s - loss: 0.2583 - acc: 0.9279 - val_loss: 0.3044 - val_acc: 0.9117\n",
      "Epoch 72/75\n",
      " - 1s - loss: 0.2565 - acc: 0.9286 - val_loss: 0.3025 - val_acc: 0.9124\n",
      "Epoch 73/75\n",
      " - 1s - loss: 0.2547 - acc: 0.9285 - val_loss: 0.3011 - val_acc: 0.9121\n",
      "Epoch 74/75\n",
      " - 1s - loss: 0.2529 - acc: 0.9297 - val_loss: 0.3011 - val_acc: 0.9129\n",
      "Epoch 75/75\n",
      " - 1s - loss: 0.2516 - acc: 0.9295 - val_loss: 0.3003 - val_acc: 0.9122\n"
     ]
    }
   ],
   "source": [
    "hist = model.fit(X_train,Y_train,batch_size=256,epochs=75,verbose=2,validation_data=(X_val,Y_val))"
   ]
  },
  {
   "cell_type": "code",
   "execution_count": 11,
   "metadata": {},
   "outputs": [
    {
     "data": {
      "image/png": "[encoded data removed]",
      "text/plain": [
       "<Figure size 432x288 with 1 Axes>"
      ]
     },
     "metadata": {},
     "output_type": "display_data"
    }
   ],
   "source": [
    "plt.figure(0)\n",
    "plt.plot(hist.history['loss'],'g')\n",
    "plt.plot(hist.history['val_loss'],'b')\n",
    "plt.plot(hist.history['acc'],'r')\n",
    "plt.plot(hist.history['val_acc'],'black')\n",
    "plt.show()"
   ]
  },
  {
   "cell_type": "code",
   "execution_count": null,
   "metadata": {},
   "outputs": [],
   "source": []
  },
  {
   "cell_type": "code",
   "execution_count": null,
   "metadata": {},
   "outputs": [],
   "source": []
  },
  {
   "cell_type": "code",
   "execution_count": null,
   "metadata": {},
   "outputs": [],
   "source": []
  },
  {
   "cell_type": "code",
   "execution_count": null,
   "metadata": {},
   "outputs": [],
   "source": []
  }
 ],
 "metadata": {
  "kernelspec": {
   "display_name": "Python 3",
   "language": "python",
   "name": "python3"
  },
  "language_info": {
   "codemirror_mode": {
    "name": "ipython",
    "version": 3
   },
   "file_extension": ".py",
   "mimetype": "text/x-python",
   "name": "python",
   "nbconvert_exporter": "python",
   "pygments_lexer": "ipython3",
   "version": "3.6.5"
  }
 },
 "nbformat": 4,
 "nbformat_minor": 2
}
